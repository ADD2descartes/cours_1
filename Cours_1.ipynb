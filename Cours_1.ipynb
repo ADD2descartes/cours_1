{
 "cells": [
  {
   "cell_type": "markdown",
   "metadata": {},
   "source": [
    "<h1> Cours 1 : Programmation Python (TP 1 à 3) <span class=\"tocSkip\"></span></h1>"
   ]
  },
  {
   "cell_type": "markdown",
   "metadata": {
    "toc": true
   },
   "source": [
    "<h1>Table of Contents<span class=\"tocSkip\"></span></h1>\n",
    "<div class=\"toc\"><ul class=\"toc-item\"><li><span><a href=\"#Première-Partie-(2H30)\" data-toc-modified-id=\"Première-Partie-(2H30)-1\"><span class=\"toc-item-num\">1&nbsp;&nbsp;</span>Première Partie (2H30)</a></span><ul class=\"toc-item\"><li><span><a href=\"#Cours-(1H)\" data-toc-modified-id=\"Cours-(1H)-1.1\"><span class=\"toc-item-num\">1.1&nbsp;&nbsp;</span>Cours (1H)</a></span><ul class=\"toc-item\"><li><span><a href=\"#Calculs\" data-toc-modified-id=\"Calculs-1.1.1\"><span class=\"toc-item-num\">1.1.1&nbsp;&nbsp;</span>Calculs</a></span></li><li><span><a href=\"#Incrémentation\" data-toc-modified-id=\"Incrémentation-1.1.2\"><span class=\"toc-item-num\">1.1.2&nbsp;&nbsp;</span>Incrémentation</a></span></li><li><span><a href=\"#Boucle\" data-toc-modified-id=\"Boucle-1.1.3\"><span class=\"toc-item-num\">1.1.3&nbsp;&nbsp;</span>Boucle</a></span></li><li><span><a href=\"#Test\" data-toc-modified-id=\"Test-1.1.4\"><span class=\"toc-item-num\">1.1.4&nbsp;&nbsp;</span>Test</a></span></li><li><span><a href=\"#Fonctions\" data-toc-modified-id=\"Fonctions-1.1.5\"><span class=\"toc-item-num\">1.1.5&nbsp;&nbsp;</span>Fonctions</a></span></li></ul></li><li><span><a href=\"#Exercices-(1H30)\" data-toc-modified-id=\"Exercices-(1H30)-1.2\"><span class=\"toc-item-num\">1.2&nbsp;&nbsp;</span>Exercices (1H30)</a></span><ul class=\"toc-item\"><li><span><a href=\"#Premier-exercice\" data-toc-modified-id=\"Premier-exercice-1.2.1\"><span class=\"toc-item-num\">1.2.1&nbsp;&nbsp;</span>Premier exercice</a></span></li><li><span><a href=\"#Deuxième-exercice\" data-toc-modified-id=\"Deuxième-exercice-1.2.2\"><span class=\"toc-item-num\">1.2.2&nbsp;&nbsp;</span>Deuxième exercice</a></span></li><li><span><a href=\"#Troisième-exercice\" data-toc-modified-id=\"Troisième-exercice-1.2.3\"><span class=\"toc-item-num\">1.2.3&nbsp;&nbsp;</span>Troisième exercice</a></span></li><li><span><a href=\"#Quatrième-exercice\" data-toc-modified-id=\"Quatrième-exercice-1.2.4\"><span class=\"toc-item-num\">1.2.4&nbsp;&nbsp;</span>Quatrième exercice</a></span></li></ul></li></ul></li><li><span><a href=\"#Deuxième-Partie-(4H15)\" data-toc-modified-id=\"Deuxième-Partie-(4H15)-2\"><span class=\"toc-item-num\">2&nbsp;&nbsp;</span>Deuxième Partie (4H15)</a></span><ul class=\"toc-item\"><li><span><a href=\"#Cours-(1H)\" data-toc-modified-id=\"Cours-(1H)-2.1\"><span class=\"toc-item-num\">2.1&nbsp;&nbsp;</span>Cours (1H)</a></span><ul class=\"toc-item\"><li><span><a href=\"#Numpy\" data-toc-modified-id=\"Numpy-2.1.1\"><span class=\"toc-item-num\">2.1.1&nbsp;&nbsp;</span>Numpy</a></span><ul class=\"toc-item\"><li><span><a href=\"#Import\" data-toc-modified-id=\"Import-2.1.1.1\"><span class=\"toc-item-num\">2.1.1.1&nbsp;&nbsp;</span>Import</a></span></li><li><span><a href=\"#Liste,-conversion,-array\" data-toc-modified-id=\"Liste,-conversion,-array-2.1.1.2\"><span class=\"toc-item-num\">2.1.1.2&nbsp;&nbsp;</span>Liste, conversion, array</a></span></li><li><span><a href=\"#Calcul-numérique\" data-toc-modified-id=\"Calcul-numérique-2.1.1.3\"><span class=\"toc-item-num\">2.1.1.3&nbsp;&nbsp;</span>Calcul numérique</a></span></li><li><span><a href=\"#Calcul-matriciel\" data-toc-modified-id=\"Calcul-matriciel-2.1.1.4\"><span class=\"toc-item-num\">2.1.1.4&nbsp;&nbsp;</span>Calcul matriciel</a></span></li><li><span><a href=\"#Indexation\" data-toc-modified-id=\"Indexation-2.1.1.5\"><span class=\"toc-item-num\">2.1.1.5&nbsp;&nbsp;</span>Indexation</a></span></li><li><span><a href=\"#Manipulation-de-dimensions\" data-toc-modified-id=\"Manipulation-de-dimensions-2.1.1.6\"><span class=\"toc-item-num\">2.1.1.6&nbsp;&nbsp;</span>Manipulation de dimensions</a></span></li></ul></li><li><span><a href=\"#Pandas,-matplotlib\" data-toc-modified-id=\"Pandas,-matplotlib-2.1.2\"><span class=\"toc-item-num\">2.1.2&nbsp;&nbsp;</span>Pandas, matplotlib</a></span></li></ul></li><li><span><a href=\"#Exercices-(3H15)\" data-toc-modified-id=\"Exercices-(3H15)-2.2\"><span class=\"toc-item-num\">2.2&nbsp;&nbsp;</span>Exercices (3H15)</a></span><ul class=\"toc-item\"><li><span><a href=\"#Premier-exercice-(numpy-only)\" data-toc-modified-id=\"Premier-exercice-(numpy-only)-2.2.1\"><span class=\"toc-item-num\">2.2.1&nbsp;&nbsp;</span>Premier exercice (numpy only)</a></span></li><li><span><a href=\"#Deuxième-exercice\" data-toc-modified-id=\"Deuxième-exercice-2.2.2\"><span class=\"toc-item-num\">2.2.2&nbsp;&nbsp;</span>Deuxième exercice</a></span></li><li><span><a href=\"#Troisième-exercice\" data-toc-modified-id=\"Troisième-exercice-2.2.3\"><span class=\"toc-item-num\">2.2.3&nbsp;&nbsp;</span>Troisième exercice</a></span></li></ul></li></ul></li></ul></div>"
   ]
  },
  {
   "cell_type": "markdown",
   "metadata": {},
   "source": [
    "Dans ce premier cours, nous allons nous familiariser avec le language Python et l'environnement Jupyter Notebook ainsi que les principaux packages indispensables au Data Scientist Python. <br>\n",
    "\n",
    "La plupart des morceaux de programmes sont déjà écrits, il suffit de faire SHIFT+ENTER lorsque la cellule est sélectionnée pour lancer le code. <br>\n",
    "\n",
    "Lorsque \"##Votre Code##\" apparait dans une cellule, c'est à vous de jouer et de briller ! Si le code est bon, un message \"Bravo\" sera affiché en sortie. <br>\n",
    "\n",
    "À la fin de chaque partie, il y a au moins 2 exercices pour vous entraîner. Un simple et des plus difficiles.\n"
   ]
  },
  {
   "cell_type": "markdown",
   "metadata": {},
   "source": [
    "# Première Partie (2H30)"
   ]
  },
  {
   "cell_type": "markdown",
   "metadata": {},
   "source": [
    "Dans cette première partie, nous introduisons les éléments de programmation simple tel que les calculs, l'incrémentation, les boucles, les tests et les fonctions."
   ]
  },
  {
   "cell_type": "markdown",
   "metadata": {},
   "source": [
    "## Cours (1H)"
   ]
  },
  {
   "cell_type": "markdown",
   "metadata": {},
   "source": [
    "### Calculs"
   ]
  },
  {
   "cell_type": "markdown",
   "metadata": {},
   "source": [
    "L'opération \"=\" correspond à affecter un nombre à une variable. \n",
    "L'objet \"None\" est un objet passe-partout qui correspond à un élément vide, dans cet exercice il faut le remplacer par la valeur correspondante.<br>\n",
    "\n",
    "Calculez mentalement :\n",
    "\\begin{equation*}\n",
    "w=a\\times b+c\\times d \\\\\n",
    "x=a+c/d \\\\\n",
    "y=(a+c)/d \\\\\n",
    "z=c\\%d+a \\\\\n",
    "\\end{equation*}"
   ]
  },
  {
   "cell_type": "code",
   "execution_count": 1,
   "metadata": {},
   "outputs": [
    {
     "name": "stdout",
     "output_type": "stream",
     "text": [
      "Essaye encore\n"
     ]
    }
   ],
   "source": [
    "a = 3\n",
    "b = 5\n",
    "c = 8\n",
    "d = 2\n",
    "\n",
    "##Votre Code##\n",
    "w = None\n",
    "x = None\n",
    "y = None\n",
    "z = None\n",
    "###Fin du Code###\n",
    "\n",
    "if w==a*b+c*d and x==a+c/d and y==(a+c)/d and z==c%d+a:\n",
    "    print(\"Bravo !\")\n",
    "else:\n",
    "    print(\"Essaye encore\")\n"
   ]
  },
  {
   "cell_type": "markdown",
   "metadata": {},
   "source": [
    "### Incrémentation "
   ]
  },
  {
   "cell_type": "markdown",
   "metadata": {},
   "source": [
    "L'incrémentation consiste à changer le contenu d'une variable en se basant sur son ancienne valeur. <br>\n",
    "\n",
    "La commande \"print\" affiche en sortie le résultat demandé. <br>\n",
    "Le # permet d'écrire des commentaires dans la cellule.<br>\n",
    "\n",
    "Essayez de trouver les 3 différentes valeurs prises par x avant de retirer les # pour voir les résultats. \n",
    "\n"
   ]
  },
  {
   "cell_type": "code",
   "execution_count": 5,
   "metadata": {
    "collapsed": true
   },
   "outputs": [],
   "source": [
    "x = 5\n",
    "x = x + 1\n",
    "#print (x)\n",
    "x += 6\n",
    "#print (x)\n",
    "x -= 6\n",
    "#print (x)"
   ]
  },
  {
   "cell_type": "markdown",
   "metadata": {},
   "source": [
    "### Boucle"
   ]
  },
  {
   "cell_type": "markdown",
   "metadata": {},
   "source": [
    "La boucle \"for\" est très pratique pour les calculs incrémentales, voici un exemple. <br>\n",
    "\n",
    "Questions:\n",
    "- Combien de fois la boucle est-elle parcourue ?\n",
    "- Quels sont les nombres qui doivent apparaître en sortie ?"
   ]
  },
  {
   "cell_type": "code",
   "execution_count": 9,
   "metadata": {
    "collapsed": true
   },
   "outputs": [],
   "source": [
    "for i in range(1,5):\n",
    "    x = x + i \n",
    "    #print(x)"
   ]
  },
  {
   "cell_type": "markdown",
   "metadata": {},
   "source": [
    "### Test"
   ]
  },
  {
   "cell_type": "markdown",
   "metadata": {},
   "source": [
    "Un test \"if\" permet de lancer le programme à l'intérieur du \"if\" lorsque la condition est respectée."
   ]
  },
  {
   "cell_type": "code",
   "execution_count": 11,
   "metadata": {},
   "outputs": [
    {
     "name": "stdout",
     "output_type": "stream",
     "text": [
      "Nombre positif\n"
     ]
    }
   ],
   "source": [
    " x = 8\n",
    "if x > 0:\n",
    "    print (\"Nombre positif\")\n",
    "else:\n",
    "    print (\"Nombre négatif\")"
   ]
  },
  {
   "cell_type": "markdown",
   "metadata": {},
   "source": [
    "À vous de jouer, tester la parité de y pour que le résultat affiché soit \"Nombre impair\"."
   ]
  },
  {
   "cell_type": "code",
   "execution_count": 32,
   "metadata": {},
   "outputs": [
    {
     "name": "stdout",
     "output_type": "stream",
     "text": [
      "Nombre pair\n",
      "Essaye encore\n"
     ]
    }
   ],
   "source": [
    "##Votre Code##\n",
    "y = 7\n",
    "if ...:\n",
    "###Fin du Code###    \n",
    "    print (\"Nombre pair\")\n",
    "    print (\"Essaye encore\")\n",
    "else:\n",
    "    print (\"Nombre impair\")\n",
    "    print(\"Bravo !\")\n"
   ]
  },
  {
   "cell_type": "markdown",
   "metadata": {},
   "source": [
    "### Fonctions"
   ]
  },
  {
   "cell_type": "markdown",
   "metadata": {},
   "source": [
    "L'écriture de fonctions est l'un des principes essentielles de la programmation. Il permet d'éviter les redondances, avoir un programme plus esthétique et bien d'autres aspects positifs.\n",
    "\n",
    "Questions : \n",
    "- Qu'est ce que je veux faire avec cette fonction ci-dessous ?\n",
    "- Une facon sans boucle de le faire ? Implémentez-là.  "
   ]
  },
  {
   "cell_type": "code",
   "execution_count": 184,
   "metadata": {
    "collapsed": true
   },
   "outputs": [],
   "source": [
    "def fonction(x):\n",
    "    y=0\n",
    "    for i in range(1,x+1):\n",
    "        y+=i\n",
    "    return y"
   ]
  },
  {
   "cell_type": "code",
   "execution_count": 224,
   "metadata": {
    "collapsed": true
   },
   "outputs": [],
   "source": [
    "##Votre Code##\n",
    "def votre_function(x):\n",
    "    ...\n",
    "    return\n",
    "###Fin du Code###"
   ]
  },
  {
   "cell_type": "code",
   "execution_count": 189,
   "metadata": {},
   "outputs": [
    {
     "name": "stdout",
     "output_type": "stream",
     "text": [
      "Bravo !\n"
     ]
    }
   ],
   "source": [
    "if fonction(100)==votre_function(100):\n",
    "    print(\"Bravo !\")\n",
    "else:\n",
    "    print(\"Essaye encore, c'est une somme populaire ;)\")"
   ]
  },
  {
   "cell_type": "markdown",
   "metadata": {},
   "source": [
    "Même si une boucle est très pratique, son coût de calcul est assez élevé, s'il y a une façon de la contourner, utilisez-là ! <br>\n",
    "Regardons le runtime de ces deux fonctions pour un chiffre très grand afin de s'en convaincre."
   ]
  },
  {
   "cell_type": "code",
   "execution_count": 196,
   "metadata": {},
   "outputs": [
    {
     "name": "stdout",
     "output_type": "stream",
     "text": [
      "Avec Boucle 6.7182s\n",
      "Sans Boucle 4e-05s\n"
     ]
    }
   ],
   "source": [
    "import time\n",
    "import numpy as np\n",
    "start = time.time()\n",
    "fonction(100000000)\n",
    "end = time.time()\n",
    "print(\"Avec Boucle \"+str(np.round(end-start,5))+\"s\")\n",
    "start = time.time()\n",
    "votre_function(100000000)\n",
    "end = time.time()\n",
    "print(\"Sans Boucle \"+str(np.round(end-start,5))+\"s\")"
   ]
  },
  {
   "cell_type": "markdown",
   "metadata": {},
   "source": [
    "## Exercices (1H30)"
   ]
  },
  {
   "cell_type": "markdown",
   "metadata": {},
   "source": [
    "### Premier exercice "
   ]
  },
  {
   "cell_type": "markdown",
   "metadata": {},
   "source": [
    "Interpréter les codes suivants, expliquer en commentaire pourquoi il y a une erreur, et corrigez-les."
   ]
  },
  {
   "cell_type": "code",
   "execution_count": 130,
   "metadata": {
    "collapsed": true
   },
   "outputs": [
    {
     "name": "stdout",
     "output_type": "stream",
     "text": [
      "5\n",
      "Corrigez moi svp\n"
     ]
    }
   ],
   "source": [
    "#J'aimerais voir 9\n",
    "a = 5\n",
    "a + 4\n",
    "print (a)\n",
    "if a==9:\n",
    "    print(\"Bravo !\")\n",
    "else:\n",
    "    print(\"Essaye encore\")"
   ]
  },
  {
   "cell_type": "code",
   "execution_count": 131,
   "metadata": {
    "collapsed": true
   },
   "outputs": [
    {
     "ename": "SyntaxError",
     "evalue": "invalid syntax (<ipython-input-131-a1c6c1efbd08>, line 3)",
     "output_type": "error",
     "traceback": [
      "\u001b[0;36m  File \u001b[0;32m\"<ipython-input-131-a1c6c1efbd08>\"\u001b[0;36m, line \u001b[0;32m3\u001b[0m\n\u001b[0;31m    for i in range (1, 10)\u001b[0m\n\u001b[0m                           ^\u001b[0m\n\u001b[0;31mSyntaxError\u001b[0m\u001b[0;31m:\u001b[0m invalid syntax\n"
     ]
    }
   ],
   "source": [
    "#Je veux la somme de 1 à 9\n",
    "a = 0\n",
    "for i in range (1, 10) \n",
    "    a += i\n",
    "print (a) \n",
    "if a==45:\n",
    "    print(\"Bravo !\")\n",
    "else:\n",
    "    print(\"Essaye encore\")"
   ]
  },
  {
   "cell_type": "code",
   "execution_count": 132,
   "metadata": {
    "collapsed": true
   },
   "outputs": [
    {
     "ename": "SyntaxError",
     "evalue": "invalid syntax (<ipython-input-132-ddfaefc1e96c>, line 3)",
     "output_type": "error",
     "traceback": [
      "\u001b[0;36m  File \u001b[0;32m\"<ipython-input-132-ddfaefc1e96c>\"\u001b[0;36m, line \u001b[0;32m3\u001b[0m\n\u001b[0;31m    for i in range (0, 4)\u001b[0m\n\u001b[0m                         ^\u001b[0m\n\u001b[0;31mSyntaxError\u001b[0m\u001b[0;31m:\u001b[0m invalid syntax\n"
     ]
    }
   ],
   "source": [
    "#Je veux la somme de 1 à 4\n",
    "a = 0\n",
    "for i in range (0, 4)\n",
    "        a = a + i\n",
    "    print (a)\n",
    "if a==10:\n",
    "    print(\"Bravo !\")\n",
    "else:\n",
    "    print(\"Essaye encore\")     "
   ]
  },
  {
   "cell_type": "code",
   "execution_count": 133,
   "metadata": {
    "collapsed": true
   },
   "outputs": [
    {
     "ename": "TypeError",
     "evalue": "unsupported operand type(s) for +: 'int' and 'str'",
     "output_type": "error",
     "traceback": [
      "\u001b[0;31m---------------------------------------------------------------------------\u001b[0m",
      "\u001b[0;31mTypeError\u001b[0m                                 Traceback (most recent call last)",
      "\u001b[0;32m<ipython-input-133-cdd45ced09be>\u001b[0m in \u001b[0;36m<module>\u001b[0;34m()\u001b[0m\n\u001b[1;32m      2\u001b[0m \u001b[0ma\u001b[0m \u001b[0;34m=\u001b[0m \u001b[0;36m45\u001b[0m\u001b[0;34m\u001b[0m\u001b[0m\n\u001b[1;32m      3\u001b[0m \u001b[0ms\u001b[0m \u001b[0;34m=\u001b[0m \u001b[0;34m\" Rue des Saints-Pères\"\u001b[0m\u001b[0;34m\u001b[0m\u001b[0m\n\u001b[0;32m----> 4\u001b[0;31m \u001b[0mprint\u001b[0m \u001b[0;34m(\u001b[0m\u001b[0ma\u001b[0m \u001b[0;34m+\u001b[0m \u001b[0ms\u001b[0m\u001b[0;34m)\u001b[0m\u001b[0;34m\u001b[0m\u001b[0m\n\u001b[0m\u001b[1;32m      5\u001b[0m \u001b[0;32mif\u001b[0m \u001b[0;34m(\u001b[0m\u001b[0ma\u001b[0m\u001b[0;34m+\u001b[0m\u001b[0ms\u001b[0m\u001b[0;34m==\u001b[0m\u001b[0;34m\"45 Rue des Saints-Pères\"\u001b[0m\u001b[0;34m)\u001b[0m\u001b[0;34m:\u001b[0m\u001b[0;34m\u001b[0m\u001b[0m\n\u001b[1;32m      6\u001b[0m     \u001b[0mprint\u001b[0m\u001b[0;34m(\u001b[0m\u001b[0;34m\"Bravo !\"\u001b[0m\u001b[0;34m)\u001b[0m\u001b[0;34m\u001b[0m\u001b[0m\n",
      "\u001b[0;31mTypeError\u001b[0m: unsupported operand type(s) for +: 'int' and 'str'"
     ]
    }
   ],
   "source": [
    "# Je veux écrire l'adresse de l'université \n",
    "a = 45\n",
    "s = \"Rue des Saints-Pères\"\n",
    "print (a + s)\n",
    "if (a+s==\"45 Rue des Saints-Pères\"):\n",
    "    print(\"Bravo !\")\n",
    "else:\n",
    "    print(\"Essaye encore\")"
   ]
  },
  {
   "cell_type": "markdown",
   "metadata": {},
   "source": [
    "### Deuxième exercice"
   ]
  },
  {
   "cell_type": "markdown",
   "metadata": {},
   "source": [
    "Ecrivez-moi deux différentes fonctions pour calculer une factorielle  (une itérative et une récursive)."
   ]
  },
  {
   "cell_type": "code",
   "execution_count": 162,
   "metadata": {
    "collapsed": true
   },
   "outputs": [],
   "source": [
    "##Votre Code##\n",
    "def factorielle_iter(x):\n",
    "    ...\n",
    "    return\n",
    "###Fin du Code###\n",
    "if factorielle_iter(6)==720:\n",
    "    print(\"Bravo pour la méthode itérative !\")\n",
    "else:\n",
    "    print(\"Essaye encore\")"
   ]
  },
  {
   "cell_type": "code",
   "execution_count": 223,
   "metadata": {},
   "outputs": [
    {
     "name": "stdout",
     "output_type": "stream",
     "text": [
      "Essaye encore\n"
     ]
    }
   ],
   "source": [
    "##Votre Code##\n",
    "def factorielle_recur(x):\n",
    "    ...\n",
    "    return\n",
    "###Fin du Code###\n",
    "\n",
    "if factorielle_iter(6)==720:\n",
    "    print(\"Bravo pour la méthode itérative !\")\n",
    "else:\n",
    "    print(\"Essaye encore\")"
   ]
  },
  {
   "cell_type": "markdown",
   "metadata": {},
   "source": [
    "### Troisième exercice"
   ]
  },
  {
   "cell_type": "markdown",
   "metadata": {},
   "source": [
    "Calculez la somme des factorielles de 1 à x."
   ]
  },
  {
   "cell_type": "code",
   "execution_count": 201,
   "metadata": {
    "collapsed": true
   },
   "outputs": [],
   "source": [
    "##Votre Code##\n",
    "def sum_facto(x):\n",
    "    ...\n",
    "    return\n",
    "###Fin du Code###\n",
    "\n",
    "if sum_facto(20)==2561327494111820313:\n",
    "    print (\"Bravo !\")\n",
    "else:\n",
    "    print (\"Essaye encore \")"
   ]
  },
  {
   "cell_type": "markdown",
   "metadata": {},
   "source": [
    "### Quatrième exercice"
   ]
  },
  {
   "cell_type": "markdown",
   "metadata": {},
   "source": [
    "Ecrivez une fonction qui compte le nombre de voyelles."
   ]
  },
  {
   "cell_type": "code",
   "execution_count": 227,
   "metadata": {},
   "outputs": [
    {
     "name": "stdout",
     "output_type": "stream",
     "text": [
      "Encore un peu pour finir la première partie du cours !\n"
     ]
    }
   ],
   "source": [
    "##Votre Code##\n",
    "def compte_voyelles(mot):\n",
    "    ...\n",
    "    return \n",
    "###Fin du Code###\n",
    "\n",
    "if compte_voyelles(\"voiture\")==4 and compte_voyelles(\"maison\")==3:\n",
    "    print(\"Bravo, tu as fini la première partie du cours !\")\n",
    "else: \n",
    "    print(\"Encore un peu pour finir la première partie du cours !\")\n"
   ]
  },
  {
   "cell_type": "markdown",
   "metadata": {},
   "source": [
    "# Deuxième Partie (4H15)"
   ]
  },
  {
   "cell_type": "markdown",
   "metadata": {},
   "source": [
    "Dans cette seconde partie, nous explorerons les packages numpy, pandas et matplotlib essentielles à posséder dans son arsenal."
   ]
  },
  {
   "cell_type": "markdown",
   "metadata": {},
   "source": [
    "## Cours (1H)"
   ]
  },
  {
   "cell_type": "markdown",
   "metadata": {},
   "source": [
    "### Numpy"
   ]
  },
  {
   "cell_type": "markdown",
   "metadata": {},
   "source": [
    "La plupart des calculs en apprentissage statistique sont des opérations matricielles. Le package numpy contient tous les outils pour faire ses opérations de la façon la plus optimale. <br>"
   ]
  },
  {
   "cell_type": "markdown",
   "metadata": {},
   "source": [
    "#### Import "
   ]
  },
  {
   "cell_type": "markdown",
   "metadata": {},
   "source": [
    "Le package numpy est présent dans n'importe quelle installation d'un IDE Python, notamment Jupyter Notebook. Il suffit donc de l'importer :"
   ]
  },
  {
   "cell_type": "code",
   "execution_count": 230,
   "metadata": {
    "collapsed": true
   },
   "outputs": [],
   "source": [
    "import numpy"
   ]
  },
  {
   "cell_type": "markdown",
   "metadata": {},
   "source": [
    "Généralement, on donne un alias à un package car il contient une multitude de fonctions et comme le programmeur est paresseux, il préfère écrire moins. L'alias admis de tous pour numpy est np."
   ]
  },
  {
   "cell_type": "code",
   "execution_count": 232,
   "metadata": {
    "collapsed": true
   },
   "outputs": [],
   "source": [
    "import numpy as np"
   ]
  },
  {
   "cell_type": "markdown",
   "metadata": {},
   "source": [
    "#### Liste, conversion, array"
   ]
  },
  {
   "cell_type": "markdown",
   "metadata": {},
   "source": [
    "Pour stocker plusieurs éléments dans un seul objet, on utilise le concept de liste. Comme son nom l'indique, ce n'est simplement qu'une liste de termes. (Cela peut être des nombres mais aussi des caractères, ou un mélange des deux). <br>\n"
   ]
  },
  {
   "cell_type": "code",
   "execution_count": 275,
   "metadata": {
    "collapsed": true
   },
   "outputs": [],
   "source": [
    "l1 = [1,3,4,6]\n",
    "l2 = [\"a\",2,\"b\",4]"
   ]
  },
  {
   "cell_type": "markdown",
   "metadata": {},
   "source": [
    "Que se passe-t-il si l'on \"somme\" deux listes ?"
   ]
  },
  {
   "cell_type": "code",
   "execution_count": 276,
   "metadata": {},
   "outputs": [
    {
     "data": {
      "text/plain": [
       "[1, 3, 4, 6, 'a', 2, 'b', 4]"
      ]
     },
     "execution_count": 276,
     "metadata": {},
     "output_type": "execute_result"
    }
   ],
   "source": [
    "l1+l2"
   ]
  },
  {
   "cell_type": "markdown",
   "metadata": {},
   "source": [
    "Elle se concatène pour n'en former qu'une seule. <br>\n",
    "\n",
    "On ne peut pas faire d'opération directement avec les listes, il faut passer par l'objet array de numpy. Retenez bien les arguments que l'on peut obtenir d'un array, notamment dtype et shape."
   ]
  },
  {
   "cell_type": "code",
   "execution_count": 277,
   "metadata": {},
   "outputs": [
    {
     "name": "stdout",
     "output_type": "stream",
     "text": [
      "[1 3 4 6]\n",
      "int64\n",
      "1\n",
      "(4,)\n"
     ]
    }
   ],
   "source": [
    "a = np.array(l1)\n",
    "print(a)\n",
    "print(a.dtype)\n",
    "print(a.ndim)\n",
    "print(a.shape)"
   ]
  },
  {
   "cell_type": "markdown",
   "metadata": {},
   "source": [
    "Lorsque vous allez faire des calculs entre array, vérifiez bien que vous traitez des nombres. Contrairement à une liste, un array a un unique type (integer, float, string). Si une liste contient au moins un string, le array converti sera un Unicode String (U1) :"
   ]
  },
  {
   "cell_type": "code",
   "execution_count": 278,
   "metadata": {},
   "outputs": [
    {
     "data": {
      "text/plain": [
       "dtype('<U1')"
      ]
     },
     "execution_count": 278,
     "metadata": {},
     "output_type": "execute_result"
    }
   ],
   "source": [
    "s = np.array(l2)\n",
    "s.dtype"
   ]
  },
  {
   "cell_type": "markdown",
   "metadata": {},
   "source": [
    "Si vous avez une liste de string mais qu'ils sont en réalité des entiers, on peut forcer une conversion avec astype :"
   ]
  },
  {
   "cell_type": "code",
   "execution_count": 301,
   "metadata": {},
   "outputs": [
    {
     "data": {
      "text/plain": [
       "array([1, 2, 3])"
      ]
     },
     "execution_count": 301,
     "metadata": {},
     "output_type": "execute_result"
    }
   ],
   "source": [
    "l3 = [\"1\",\"2\",\"3\"]\n",
    "b = np.array(l3)\n",
    "b.astype(int)"
   ]
  },
  {
   "cell_type": "markdown",
   "metadata": {},
   "source": [
    "#### Calcul numérique"
   ]
  },
  {
   "cell_type": "markdown",
   "metadata": {},
   "source": [
    "Toutes les opérations de calcul sont possibles entre des arrays de même longueur et dimension, l'addition, la soustraction, la multiplication."
   ]
  },
  {
   "cell_type": "code",
   "execution_count": 358,
   "metadata": {},
   "outputs": [
    {
     "name": "stdout",
     "output_type": "stream",
     "text": [
      "[  3  13 110]\n",
      "[-1  7 90]\n",
      "[   2   30 1000]\n"
     ]
    }
   ],
   "source": [
    "a = np.array([1,10,100])\n",
    "b = np.array([2,3,10])\n",
    "print(a+b)\n",
    "print(a-b)\n",
    "print(a*b)"
   ]
  },
  {
   "cell_type": "markdown",
   "metadata": {},
   "source": [
    "Expliquez ce que fais cette commande :"
   ]
  },
  {
   "cell_type": "code",
   "execution_count": 365,
   "metadata": {},
   "outputs": [
    {
     "data": {
      "text/plain": [
       "array([6.71828183e+00, 2.20354658e+04, 2.68811714e+43])"
      ]
     },
     "execution_count": 365,
     "metadata": {},
     "output_type": "execute_result"
    }
   ],
   "source": [
    "np.exp(a)+b**2\n",
    "# Explication"
   ]
  },
  {
   "cell_type": "markdown",
   "metadata": {},
   "source": [
    "#### Calcul matriciel"
   ]
  },
  {
   "cell_type": "markdown",
   "metadata": {},
   "source": [
    "On a construit des array de dimension 1, aussi appelé 1d-array, maintenant on va construire des objets de forme matricielle : des 2d-array. Il faut partir d'une liste de listes."
   ]
  },
  {
   "cell_type": "code",
   "execution_count": 303,
   "metadata": {},
   "outputs": [
    {
     "name": "stdout",
     "output_type": "stream",
     "text": [
      "2\n",
      "(3, 3)\n"
     ]
    }
   ],
   "source": [
    "l4 = [[1,2,3],[2,3,4],[3,4,5]]\n",
    "matrix = np.array(l4)\n",
    "print(matrix.ndim)\n",
    "print(matrix.shape)"
   ]
  },
  {
   "cell_type": "markdown",
   "metadata": {},
   "source": [
    "NB : le 2d-array se remplit ligne par ligne, ie [1,2,3] est la première ligne de la matrice."
   ]
  },
  {
   "cell_type": "markdown",
   "metadata": {},
   "source": [
    "Comme dans la session d'avant, on se chauffe par des calculs. <br>\n",
    "Calculez :\n",
    "\\begin{equation*}\n",
    "a=\\begin{pmatrix} \n",
    "1 & 2 & 3  \\\\\n",
    "2 & 3 & 4 \\\\\n",
    "3 & 4 & 5 \n",
    "\\end{pmatrix}\n",
    "\\begin{pmatrix} \n",
    "1 & 2 & 3  \\\\\n",
    "2 & 3 & 4 \\\\\n",
    "3 & 4 & 5 \n",
    "\\end{pmatrix}\\\\\n",
    "b=\\begin{pmatrix} \n",
    "1 & 2 & 3  \\\\\n",
    "2 & 3 & 4 \\\\\n",
    "3 & 4 & 5 \n",
    "\\end{pmatrix}\n",
    "+\n",
    "\\begin{pmatrix} \n",
    "1 & 2 & 3  \\\\\n",
    "2 & 3 & 4 \\\\\n",
    "3 & 4 & 5 \n",
    "\\end{pmatrix}\\\\\n",
    "c=\\begin{pmatrix} \n",
    "1 & 2 & 3  \\\\\n",
    "2 & 3 & 4 \\\\\n",
    "3 & 4 & 5 \n",
    "\\end{pmatrix}\n",
    "\\begin{pmatrix} \n",
    "1 & 2 & 3  \\\\\n",
    "2 & 3 & 4 \\\\\n",
    "3 & 4 & 5 \n",
    "\\end{pmatrix}^T\n",
    "\\end{equation*}"
   ]
  },
  {
   "cell_type": "code",
   "execution_count": 320,
   "metadata": {},
   "outputs": [
    {
     "name": "stdout",
     "output_type": "stream",
     "text": [
      "Essaye encore\n"
     ]
    }
   ],
   "source": [
    "##Votre Code##\n",
    "a = np.array([[None,None,None]]*3)\n",
    "b = np.array([[None,None,None]]*3)\n",
    "c = np.array([[None,None,None]]*3)\n",
    "###Fin du Code###\n",
    "\n",
    "if np.array_equal(a,matrix*matrix) and np.array_equal(b,matrix+matrix) and np.array_equal(c,matrix*matrix.T):\n",
    "    print(\"Bravo !\")\n",
    "else:\n",
    "    print(\"Essaye encore\")"
   ]
  },
  {
   "cell_type": "markdown",
   "metadata": {},
   "source": [
    "#### Indexation"
   ]
  },
  {
   "cell_type": "markdown",
   "metadata": {},
   "source": [
    "Contrairement à R, l'indexation des arrays commencent à 0 (tout comme C et Java). <br>\n",
    "Pour accéder à un élément on utilise les crochets []. Par exemple le nombre à la première ligne et la première colonne d'une matrice m est obtenue par m[0,0]. <br>\n",
    "Pour accéder à tous les éléments d'une ligne ou d'une colonne on peut utiliser \":\". <br>\n",
    "\n",
    "En utilisant la matrice \\begin{equation*}m=\n",
    "\\begin{pmatrix} \n",
    "1 & 2 & 3  \\\\\n",
    "4 & 5 & 6 \\\\\n",
    "7 & 8 & 9 \n",
    "\\end{pmatrix}\n",
    "\\end{equation*}\n",
    "donner moi les éléments suivants (en utilisant l'indexation) :\n",
    "- m1 = 2 \n",
    "- m2 = [4,5,6]\n",
    "- m3 = [3,6,9]\n",
    "- m4 = [5,8]\n",
    "\n",
    "\n"
   ]
  },
  {
   "cell_type": "code",
   "execution_count": 332,
   "metadata": {},
   "outputs": [
    {
     "name": "stdout",
     "output_type": "stream",
     "text": [
      "Essaye encore\n"
     ]
    }
   ],
   "source": [
    "m=np.array([[1,2,3],[4,5,6],[7,8,9]])\n",
    "##Votre Code##\n",
    "m1 = None\n",
    "m2 = np.array([None,None,None])\n",
    "m3 = np.array([None,None,None])\n",
    "m4 = np.array([None,None])\n",
    "###Fin du Code###\n",
    "\n",
    "if np.array_equal(m1,2) and np.array_equal(m2,[4,5,6]) and np.array_equal(m3,[3,6,9]) and np.array_equal(m4,[5,8]):\n",
    "    print(\"Bravo !\")\n",
    "else:\n",
    "    print(\"Essaye encore\")"
   ]
  },
  {
   "cell_type": "markdown",
   "metadata": {},
   "source": [
    "#### Manipulation de dimensions"
   ]
  },
  {
   "cell_type": "markdown",
   "metadata": {},
   "source": [
    "La méthode reshape permet de changer la forme de l’array. On précise à reshape la forme souhaitée: par un entier si on veut un 1d-array, ou un couple (n lignes, p colonnes) pour un 2d-array. <br>\n",
    "\n",
    "Quelques autres méthodes utiles de numpy.\n",
    "- np.arange(n) : crée un array contenant les chiffres de 0 à n-1. \n",
    "- np.zeros(n) : crée un array contenant n zeros.\n",
    "- np.ones(n) : crée un array contenant n uns.\n",
    "- np.concatenate((a,b,c)) : concatène les arrays a,b et c. \n",
    "\n",
    "À vous de jouer :\n",
    "- Construisez un array x de 0 à 6.\n",
    "- Construisez un array y contenant 2 zeros.\n",
    "- Construisez un array z contenant 3 uns.\n",
    "- Concatenez x,y,z et stocker le sous la variable g.\n",
    "- redimensionnez g en un 2d-array avec 4 lignes et 3 colonnes et appelez le h."
   ]
  },
  {
   "cell_type": "code",
   "execution_count": 353,
   "metadata": {},
   "outputs": [
    {
     "name": "stdout",
     "output_type": "stream",
     "text": [
      "Bravo !\n"
     ]
    }
   ],
   "source": [
    "##Votre Code## \n",
    "...\n",
    "### Fin du Code###\n",
    "if np.array_equal(h,np.array([[0,1,2],[3,4,5],[6,0,0],[1,1,1]])):\n",
    "    print(\"Bravo !\")\n",
    "else:\n",
    "    print(\"Essaye encore\")"
   ]
  },
  {
   "cell_type": "markdown",
   "metadata": {},
   "source": [
    "### Pandas, matplotlib"
   ]
  },
  {
   "cell_type": "markdown",
   "metadata": {},
   "source": [
    "Le package pandas est très utilisé pour stocker des bases de données et faire des opérations dessus. Il est l'équivalent du dataframe dans R, dans ce cours nous travaillerons très peu avec pandas. <br>\n",
    "Le package matplotlib est le package principal pour faire de la visualisation en Python.<br>\n",
    "\n",
    "Je vous laisse le soin de les explorer en profondeur et de me faire des jolies graphiques pour le projet final, un aperçu des possibilités de matplotlib [içi](https://matplotlib.org/gallery/index.html).<br>\n",
    "\n",
    "Le dernier exercice vous initie à utiliser les fonctions basiques pour créer un graphique. \n"
   ]
  },
  {
   "cell_type": "markdown",
   "metadata": {},
   "source": [
    "## Exercices (3H15)"
   ]
  },
  {
   "cell_type": "markdown",
   "metadata": {},
   "source": [
    "### Premier exercice (numpy only)"
   ]
  },
  {
   "cell_type": "markdown",
   "metadata": {},
   "source": [
    "Questions : \n",
    "- Téléchargez les données de \"data/data_C1.txt\" en les stockant dans un array.\n",
    "- Donnez le shape de cet array.\n",
    "- À quoi peuvent correspondre les 2 lignes de cet array ? Redimensionnez-le sous le format standard (observations,variables). \n",
    "- Calculez les estimateurs des Moindres Carrés Ordinaires en supposant que la première ligne (Y) est régressée sur la seconde (X).\n",
    "- Effectuez un test de significativité pour le coefficient de X, donnez la p-value."
   ]
  },
  {
   "cell_type": "markdown",
   "metadata": {},
   "source": [
    "Rappel 1 : On minimise la somme des résidus au carré sous les paramètres, pour obtenir les estimateurs des MCO."
   ]
  },
  {
   "cell_type": "markdown",
   "metadata": {},
   "source": [
    "Rappel 2 : Test de Student pour la significativité du coefficient de X.\n",
    "\n",
    "Il s’agit de comparer le coefficient de X donné par les MCO à 0.\n",
    "Soit X une série de valeurs de taille n, de moyenne m et d’écart-type s. La statistique de test de Student est donné par la formule :\n",
    "\n",
    "\\begin{equation*}\n",
    "t=\\frac{m−0}{s/\\sqrt{df}}\n",
    "\\end{equation*}\n",
    "où df = n-1\n",
    "\n",
    "t suit sous H_0 une loi de Student de degré de liberté df."
   ]
  },
  {
   "cell_type": "code",
   "execution_count": 485,
   "metadata": {
    "collapsed": true
   },
   "outputs": [],
   "source": [
    "##Votre Code##\n",
    "...\n",
    "intercept = None\n",
    "coef = None\n",
    "p_value = None\n",
    "###Fin du Code###\n"
   ]
  },
  {
   "cell_type": "code",
   "execution_count": 486,
   "metadata": {
    "collapsed": true
   },
   "outputs": [
    {
     "ename": "TypeError",
     "evalue": "unsupported operand type(s) for *: 'NoneType' and 'float'",
     "output_type": "error",
     "traceback": [
      "\u001b[0;31m---------------------------------------------------------------------------\u001b[0m",
      "\u001b[0;31mAttributeError\u001b[0m                            Traceback (most recent call last)",
      "\u001b[0;32m/Users/LF/anaconda/lib/python3.6/site-packages/numpy/core/fromnumeric.py\u001b[0m in \u001b[0;36m_wrapfunc\u001b[0;34m(obj, method, *args, **kwds)\u001b[0m\n\u001b[1;32m     51\u001b[0m     \u001b[0;32mtry\u001b[0m\u001b[0;34m:\u001b[0m\u001b[0;34m\u001b[0m\u001b[0m\n\u001b[0;32m---> 52\u001b[0;31m         \u001b[0;32mreturn\u001b[0m \u001b[0mgetattr\u001b[0m\u001b[0;34m(\u001b[0m\u001b[0mobj\u001b[0m\u001b[0;34m,\u001b[0m \u001b[0mmethod\u001b[0m\u001b[0;34m)\u001b[0m\u001b[0;34m(\u001b[0m\u001b[0;34m*\u001b[0m\u001b[0margs\u001b[0m\u001b[0;34m,\u001b[0m \u001b[0;34m**\u001b[0m\u001b[0mkwds\u001b[0m\u001b[0;34m)\u001b[0m\u001b[0;34m\u001b[0m\u001b[0m\n\u001b[0m\u001b[1;32m     53\u001b[0m \u001b[0;34m\u001b[0m\u001b[0m\n",
      "\u001b[0;31mAttributeError\u001b[0m: 'NoneType' object has no attribute 'round'",
      "\nDuring handling of the above exception, another exception occurred:\n",
      "\u001b[0;31mTypeError\u001b[0m                                 Traceback (most recent call last)",
      "\u001b[0;32m<ipython-input-486-5d901a65b061>\u001b[0m in \u001b[0;36m<module>\u001b[0;34m()\u001b[0m\n\u001b[0;32m----> 1\u001b[0;31m \u001b[0;32mif\u001b[0m \u001b[0mnp\u001b[0m\u001b[0;34m.\u001b[0m\u001b[0mround\u001b[0m\u001b[0;34m(\u001b[0m\u001b[0mcoef\u001b[0m\u001b[0;34m,\u001b[0m\u001b[0;36m2\u001b[0m\u001b[0;34m)\u001b[0m\u001b[0;34m==\u001b[0m\u001b[0;36m0.54\u001b[0m \u001b[0;32mand\u001b[0m \u001b[0mnp\u001b[0m\u001b[0;34m.\u001b[0m\u001b[0mround\u001b[0m\u001b[0;34m(\u001b[0m\u001b[0mintercept\u001b[0m\u001b[0;34m,\u001b[0m\u001b[0;36m2\u001b[0m\u001b[0;34m)\u001b[0m\u001b[0;34m==\u001b[0m\u001b[0;36m134.53\u001b[0m \u001b[0;32mand\u001b[0m \u001b[0mnp\u001b[0m\u001b[0;34m.\u001b[0m\u001b[0mround\u001b[0m\u001b[0;34m(\u001b[0m\u001b[0;36m2\u001b[0m\u001b[0;34m*\u001b[0m\u001b[0mp_uni\u001b[0m\u001b[0;34m,\u001b[0m\u001b[0;36m10\u001b[0m\u001b[0;34m)\u001b[0m\u001b[0;34m==\u001b[0m\u001b[0;36m4e-10\u001b[0m\u001b[0;34m:\u001b[0m\u001b[0;34m\u001b[0m\u001b[0m\n\u001b[0m\u001b[1;32m      2\u001b[0m     \u001b[0mprint\u001b[0m\u001b[0;34m(\u001b[0m\u001b[0;34m\"Bravo !\"\u001b[0m\u001b[0;34m)\u001b[0m\u001b[0;34m\u001b[0m\u001b[0m\n\u001b[1;32m      3\u001b[0m \u001b[0;32melse\u001b[0m\u001b[0;34m:\u001b[0m\u001b[0;34m\u001b[0m\u001b[0m\n\u001b[1;32m      4\u001b[0m     \u001b[0mprint\u001b[0m\u001b[0;34m(\u001b[0m\u001b[0;34m\"Essaye encore\"\u001b[0m\u001b[0;34m)\u001b[0m\u001b[0;34m\u001b[0m\u001b[0m\n",
      "\u001b[0;32m/Users/LF/anaconda/lib/python3.6/site-packages/numpy/core/fromnumeric.py\u001b[0m in \u001b[0;36mround_\u001b[0;34m(a, decimals, out)\u001b[0m\n\u001b[1;32m   2849\u001b[0m \u001b[0;34m\u001b[0m\u001b[0m\n\u001b[1;32m   2850\u001b[0m     \"\"\"\n\u001b[0;32m-> 2851\u001b[0;31m     \u001b[0;32mreturn\u001b[0m \u001b[0maround\u001b[0m\u001b[0;34m(\u001b[0m\u001b[0ma\u001b[0m\u001b[0;34m,\u001b[0m \u001b[0mdecimals\u001b[0m\u001b[0;34m=\u001b[0m\u001b[0mdecimals\u001b[0m\u001b[0;34m,\u001b[0m \u001b[0mout\u001b[0m\u001b[0;34m=\u001b[0m\u001b[0mout\u001b[0m\u001b[0;34m)\u001b[0m\u001b[0;34m\u001b[0m\u001b[0m\n\u001b[0m\u001b[1;32m   2852\u001b[0m \u001b[0;34m\u001b[0m\u001b[0m\n\u001b[1;32m   2853\u001b[0m \u001b[0;34m\u001b[0m\u001b[0m\n",
      "\u001b[0;32m/Users/LF/anaconda/lib/python3.6/site-packages/numpy/core/fromnumeric.py\u001b[0m in \u001b[0;36maround\u001b[0;34m(a, decimals, out)\u001b[0m\n\u001b[1;32m   2835\u001b[0m \u001b[0;34m\u001b[0m\u001b[0m\n\u001b[1;32m   2836\u001b[0m     \"\"\"\n\u001b[0;32m-> 2837\u001b[0;31m     \u001b[0;32mreturn\u001b[0m \u001b[0m_wrapfunc\u001b[0m\u001b[0;34m(\u001b[0m\u001b[0ma\u001b[0m\u001b[0;34m,\u001b[0m \u001b[0;34m'round'\u001b[0m\u001b[0;34m,\u001b[0m \u001b[0mdecimals\u001b[0m\u001b[0;34m=\u001b[0m\u001b[0mdecimals\u001b[0m\u001b[0;34m,\u001b[0m \u001b[0mout\u001b[0m\u001b[0;34m=\u001b[0m\u001b[0mout\u001b[0m\u001b[0;34m)\u001b[0m\u001b[0;34m\u001b[0m\u001b[0m\n\u001b[0m\u001b[1;32m   2838\u001b[0m \u001b[0;34m\u001b[0m\u001b[0m\n\u001b[1;32m   2839\u001b[0m \u001b[0;34m\u001b[0m\u001b[0m\n",
      "\u001b[0;32m/Users/LF/anaconda/lib/python3.6/site-packages/numpy/core/fromnumeric.py\u001b[0m in \u001b[0;36m_wrapfunc\u001b[0;34m(obj, method, *args, **kwds)\u001b[0m\n\u001b[1;32m     60\u001b[0m     \u001b[0;31m# a downstream library like 'pandas'.\u001b[0m\u001b[0;34m\u001b[0m\u001b[0;34m\u001b[0m\u001b[0m\n\u001b[1;32m     61\u001b[0m     \u001b[0;32mexcept\u001b[0m \u001b[0;34m(\u001b[0m\u001b[0mAttributeError\u001b[0m\u001b[0;34m,\u001b[0m \u001b[0mTypeError\u001b[0m\u001b[0;34m)\u001b[0m\u001b[0;34m:\u001b[0m\u001b[0;34m\u001b[0m\u001b[0m\n\u001b[0;32m---> 62\u001b[0;31m         \u001b[0;32mreturn\u001b[0m \u001b[0m_wrapit\u001b[0m\u001b[0;34m(\u001b[0m\u001b[0mobj\u001b[0m\u001b[0;34m,\u001b[0m \u001b[0mmethod\u001b[0m\u001b[0;34m,\u001b[0m \u001b[0;34m*\u001b[0m\u001b[0margs\u001b[0m\u001b[0;34m,\u001b[0m \u001b[0;34m**\u001b[0m\u001b[0mkwds\u001b[0m\u001b[0;34m)\u001b[0m\u001b[0;34m\u001b[0m\u001b[0m\n\u001b[0m\u001b[1;32m     63\u001b[0m \u001b[0;34m\u001b[0m\u001b[0m\n\u001b[1;32m     64\u001b[0m \u001b[0;34m\u001b[0m\u001b[0m\n",
      "\u001b[0;32m/Users/LF/anaconda/lib/python3.6/site-packages/numpy/core/fromnumeric.py\u001b[0m in \u001b[0;36m_wrapit\u001b[0;34m(obj, method, *args, **kwds)\u001b[0m\n\u001b[1;32m     40\u001b[0m     \u001b[0;32mexcept\u001b[0m \u001b[0mAttributeError\u001b[0m\u001b[0;34m:\u001b[0m\u001b[0;34m\u001b[0m\u001b[0m\n\u001b[1;32m     41\u001b[0m         \u001b[0mwrap\u001b[0m \u001b[0;34m=\u001b[0m \u001b[0;32mNone\u001b[0m\u001b[0;34m\u001b[0m\u001b[0m\n\u001b[0;32m---> 42\u001b[0;31m     \u001b[0mresult\u001b[0m \u001b[0;34m=\u001b[0m \u001b[0mgetattr\u001b[0m\u001b[0;34m(\u001b[0m\u001b[0masarray\u001b[0m\u001b[0;34m(\u001b[0m\u001b[0mobj\u001b[0m\u001b[0;34m)\u001b[0m\u001b[0;34m,\u001b[0m \u001b[0mmethod\u001b[0m\u001b[0;34m)\u001b[0m\u001b[0;34m(\u001b[0m\u001b[0;34m*\u001b[0m\u001b[0margs\u001b[0m\u001b[0;34m,\u001b[0m \u001b[0;34m**\u001b[0m\u001b[0mkwds\u001b[0m\u001b[0;34m)\u001b[0m\u001b[0;34m\u001b[0m\u001b[0m\n\u001b[0m\u001b[1;32m     43\u001b[0m     \u001b[0;32mif\u001b[0m \u001b[0mwrap\u001b[0m\u001b[0;34m:\u001b[0m\u001b[0;34m\u001b[0m\u001b[0m\n\u001b[1;32m     44\u001b[0m         \u001b[0;32mif\u001b[0m \u001b[0;32mnot\u001b[0m \u001b[0misinstance\u001b[0m\u001b[0;34m(\u001b[0m\u001b[0mresult\u001b[0m\u001b[0;34m,\u001b[0m \u001b[0mmu\u001b[0m\u001b[0;34m.\u001b[0m\u001b[0mndarray\u001b[0m\u001b[0;34m)\u001b[0m\u001b[0;34m:\u001b[0m\u001b[0;34m\u001b[0m\u001b[0m\n",
      "\u001b[0;31mTypeError\u001b[0m: unsupported operand type(s) for *: 'NoneType' and 'float'"
     ]
    }
   ],
   "source": [
    "if np.round(coef,2)==0.54 and np.round(intercept,2)==134.53 and np.round(2*p_uni,10)==4e-10:\n",
    "    print(\"Bravo !\")\n",
    "else:\n",
    "    print(\"Essaye encore\")"
   ]
  },
  {
   "cell_type": "markdown",
   "metadata": {},
   "source": [
    "### Deuxième exercice"
   ]
  },
  {
   "cell_type": "markdown",
   "metadata": {},
   "source": [
    "Construisez un échiquier de 2 façons différentes : \n",
    "- Avec une indexation astucieuse (Essayer \"::2\" pour sauter un pas).\n",
    "- Avec la fonction tile.\n"
   ]
  },
  {
   "cell_type": "code",
   "execution_count": 421,
   "metadata": {},
   "outputs": [
    {
     "name": "stdout",
     "output_type": "stream",
     "text": [
      "Essaye encore\n"
     ]
    }
   ],
   "source": [
    "##Votre Code##\n",
    "echiquier_1 = ...\n",
    "###Fin du Code###\n",
    "\n",
    "if np.array_equal(echiquier_1,np.array(\n",
    "[[1,0,1,0,1,0,1,0],\n",
    " [0,1,0,1,0,1,0,1],\n",
    " [1,0,1,0,1,0,1,0],\n",
    " [0,1,0,1,0,1,0,1],\n",
    " [1,0,1,0,1,0,1,0],\n",
    " [0,1,0,1,0,1,0,1],\n",
    " [1,0,1,0,1,0,1,0],\n",
    " [0,1,0,1,0,1,0,1]])):\n",
    "    print(\"Bravo !\")\n",
    "else:\n",
    "    print(\"Essaye encore\")"
   ]
  },
  {
   "cell_type": "code",
   "execution_count": 422,
   "metadata": {},
   "outputs": [
    {
     "name": "stdout",
     "output_type": "stream",
     "text": [
      "Essaye encore\n"
     ]
    }
   ],
   "source": [
    "##Votre Code##\n",
    "echiquier_2 = ...\n",
    "###Fin du Code###\n",
    "\n",
    "if np.array_equal(echiquier_2,np.array(\n",
    "[[1,0,1,0,1,0,1,0],\n",
    " [0,1,0,1,0,1,0,1],\n",
    " [1,0,1,0,1,0,1,0],\n",
    " [0,1,0,1,0,1,0,1],\n",
    " [1,0,1,0,1,0,1,0],\n",
    " [0,1,0,1,0,1,0,1],\n",
    " [1,0,1,0,1,0,1,0],\n",
    " [0,1,0,1,0,1,0,1]])):\n",
    "    print(\"Bravo !\")\n",
    "else:\n",
    "    print(\"Essaye encore\")"
   ]
  },
  {
   "cell_type": "markdown",
   "metadata": {},
   "source": [
    "### Troisième exercice"
   ]
  },
  {
   "cell_type": "markdown",
   "metadata": {},
   "source": [
    "Une marche aléatoire Y est un processus stochastique tel que :\n",
    "\\begin{equation*}\n",
    "Y_0 = 0\\\\\n",
    "Y_n =\\sum \\limits_{i=1}^{n} X_i \\text{  , pour tout n>0}\n",
    "\\end{equation*}\n",
    "où $X_i$ suit une Bernouilli sur le support {-1,1}.<br>\n",
    "\n",
    "Questions :\n",
    "- Simulez 10 marches aléatoires de taille n=1000, et de pas +1 ou -1 équiprobables.\n",
    "- Utilisez matplotlib pour ploter les 10 marches aléatoires.\n",
    "- Légendez les abscisses, ordonnées.\n",
    "- Donnez le titre \"A Random Walk\" au graphique.  \n",
    "- Donnez la plus haute et la plus petite valeur pour ses 10 marches. \n",
    "- Moyenne d'étapes pour dépasser la valeur 20 sur ces marches ?"
   ]
  },
  {
   "cell_type": "code",
   "execution_count": 533,
   "metadata": {
    "collapsed": true
   },
   "outputs": [],
   "source": [
    "np.random.seed(26)\n",
    "##Votre Code##\n",
    "\n",
    "###Fin du Code###"
   ]
  },
  {
   "cell_type": "code",
   "execution_count": null,
   "metadata": {
    "collapsed": true
   },
   "outputs": [],
   "source": []
  }
 ],
 "metadata": {
  "kernelspec": {
   "display_name": "Python 3",
   "language": "python",
   "name": "python3"
  },
  "language_info": {
   "codemirror_mode": {
    "name": "ipython",
    "version": 3
   },
   "file_extension": ".py",
   "mimetype": "text/x-python",
   "name": "python",
   "nbconvert_exporter": "python",
   "pygments_lexer": "ipython3",
   "version": "3.6.3"
  },
  "toc": {
   "base_numbering": 1,
   "nav_menu": {},
   "number_sections": true,
   "sideBar": true,
   "skip_h1_title": false,
   "title_cell": "Table of Contents",
   "title_sidebar": "Contents",
   "toc_cell": true,
   "toc_position": {},
   "toc_section_display": true,
   "toc_window_display": true
  }
 },
 "nbformat": 4,
 "nbformat_minor": 2
}
